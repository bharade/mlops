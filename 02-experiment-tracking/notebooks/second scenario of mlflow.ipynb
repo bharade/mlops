{
 "cells": [
  {
   "cell_type": "code",
   "execution_count": 1,
   "id": "50edae12",
   "metadata": {},
   "outputs": [],
   "source": [
    "import mlflow"
   ]
  },
  {
   "cell_type": "code",
   "execution_count": 2,
   "id": "3bc57fc9",
   "metadata": {},
   "outputs": [],
   "source": [
    "mlflow.set_tracking_uri(\"http://127.0.0.1:5000\")"
   ]
  },
  {
   "cell_type": "code",
   "execution_count": 5,
   "id": "a48b3492",
   "metadata": {},
   "outputs": [
    {
     "name": "stdout",
     "output_type": "stream",
     "text": [
      "tracking uri: <function get_tracking_uri at 0x729b593fb3a0>\n"
     ]
    }
   ],
   "source": [
    "print(f\"tracking uri: {mlflow.get_tracking_uri}\")"
   ]
  },
  {
   "cell_type": "markdown",
   "id": "5907990b",
   "metadata": {},
   "source": [
    "mlflow."
   ]
  },
  {
   "cell_type": "code",
   "execution_count": 7,
   "id": "9c583eb7",
   "metadata": {},
   "outputs": [
    {
     "data": {
      "text/plain": [
       "[<Experiment: artifact_location='mlflow-artifacts:/0', creation_time=1737457830025, experiment_id='0', last_update_time=1737457830025, lifecycle_stage='active', name='Default', tags={}>]"
      ]
     },
     "execution_count": 7,
     "metadata": {},
     "output_type": "execute_result"
    }
   ],
   "source": [
    "mlflow.search_experiments()"
   ]
  },
  {
   "cell_type": "code",
   "execution_count": 9,
   "id": "998c314e",
   "metadata": {},
   "outputs": [
    {
     "name": "stderr",
     "output_type": "stream",
     "text": [
      "2025/01/21 11:20:06 WARNING mlflow.utils.environment: Encountered an unexpected error while inferring pip requirements (model URI: /tmp/tmpo8rdajba/model/model.pkl, flavor: sklearn). Fall back to return ['scikit-learn==1.0.2', 'cloudpickle==2.0.0']. Set logging level to DEBUG to see the full traceback. \n",
      "\u001b[31m2025/01/21 11:20:06 WARNING mlflow.models.model: Model logged without a signature and input example. Please set `input_example` parameter when logging the model to auto infer the model signature.\u001b[0m\n"
     ]
    },
    {
     "name": "stdout",
     "output_type": "stream",
     "text": [
      "default artifacts URI: 'mlflow-artifacts:/0/e001fb1a191b42a6882b16a16b7c5dbd/artifacts'\n",
      "🏃 View run classy-smelt-46 at: http://127.0.0.1:5000/#/experiments/0/runs/e001fb1a191b42a6882b16a16b7c5dbd\n",
      "🧪 View experiment at: http://127.0.0.1:5000/#/experiments/0\n"
     ]
    }
   ],
   "source": [
    "from sklearn.linear_model import LogisticRegression\n",
    "from sklearn.datasets import load_iris\n",
    "from sklearn.metrics import accuracy_score\n",
    "\n",
    "with mlflow.start_run():\n",
    "    X,y=load_iris(return_X_y=True)\n",
    "    params={\"C\":0.1,\"random_state\":42}\n",
    "    mlflow.log_params(params)\n",
    "    lr=LogisticRegression(**params).fit(X,y)\n",
    "    y_pred=lr.predict(X)\n",
    "    mlflow.log_metric(\"accuracy\",accuracy_score(y,y_pred))\n",
    "    mlflow.sklearn.log_model(lr,artifact_path=\"models\")\n",
    "    print(f\"default artifacts URI: '{mlflow.get_artifact_uri()}'\")"
   ]
  },
  {
   "cell_type": "code",
   "execution_count": 10,
   "id": "649df474",
   "metadata": {},
   "outputs": [
    {
     "data": {
      "text/plain": [
       "[<Experiment: artifact_location='mlflow-artifacts:/0', creation_time=1737457830025, experiment_id='0', last_update_time=1737457830025, lifecycle_stage='active', name='Default', tags={}>]"
      ]
     },
     "execution_count": 10,
     "metadata": {},
     "output_type": "execute_result"
    }
   ],
   "source": [
    "mlflow.search_experiments()"
   ]
  },
  {
   "cell_type": "code",
   "execution_count": 11,
   "id": "5a5d878e",
   "metadata": {},
   "outputs": [],
   "source": [
    "#interacting with the model registry\n"
   ]
  },
  {
   "cell_type": "code",
   "execution_count": 12,
   "id": "69bd4680",
   "metadata": {},
   "outputs": [],
   "source": [
    "from mlflow.tracking import MlflowClient\n",
    "client = MlflowClient(\"http://127.0.0.1:5000\")"
   ]
  },
  {
   "cell_type": "code",
   "execution_count": 24,
   "id": "0b5e3ced",
   "metadata": {},
   "outputs": [
    {
     "data": {
      "text/plain": [
       "[<RegisteredModel: aliases={}, creation_timestamp=1737458810534, description='', last_updated_timestamp=1737458810555, latest_versions=[<ModelVersion: aliases=[], creation_timestamp=1737458810555, current_stage='None', description='', last_updated_timestamp=1737458810555, name='iris-classifier', run_id='e001fb1a191b42a6882b16a16b7c5dbd', run_link='', source='mlflow-artifacts:/0/e001fb1a191b42a6882b16a16b7c5dbd/artifacts/models', status='READY', status_message='', tags={}, user_id='', version='1'>], name='iris-classifier', tags={}>]"
      ]
     },
     "execution_count": 24,
     "metadata": {},
     "output_type": "execute_result"
    }
   ],
   "source": [
    "client.search_registered_models()"
   ]
  },
  {
   "cell_type": "code",
   "execution_count": 21,
   "id": "de52e008",
   "metadata": {},
   "outputs": [
    {
     "data": {
      "text/html": [
       "<div>\n",
       "<style scoped>\n",
       "    .dataframe tbody tr th:only-of-type {\n",
       "        vertical-align: middle;\n",
       "    }\n",
       "\n",
       "    .dataframe tbody tr th {\n",
       "        vertical-align: top;\n",
       "    }\n",
       "\n",
       "    .dataframe thead th {\n",
       "        text-align: right;\n",
       "    }\n",
       "</style>\n",
       "<table border=\"1\" class=\"dataframe\">\n",
       "  <thead>\n",
       "    <tr style=\"text-align: right;\">\n",
       "      <th></th>\n",
       "      <th>run_id</th>\n",
       "      <th>experiment_id</th>\n",
       "      <th>status</th>\n",
       "      <th>artifact_uri</th>\n",
       "      <th>start_time</th>\n",
       "      <th>end_time</th>\n",
       "      <th>metrics.accuracy</th>\n",
       "      <th>params.random_state</th>\n",
       "      <th>params.C</th>\n",
       "      <th>params.ramdom_state</th>\n",
       "      <th>tags.mlflow.user</th>\n",
       "      <th>tags.mlflow.source.type</th>\n",
       "      <th>tags.mlflow.source.name</th>\n",
       "      <th>tags.mlflow.log-model.history</th>\n",
       "      <th>tags.mlflow.runName</th>\n",
       "    </tr>\n",
       "  </thead>\n",
       "  <tbody>\n",
       "    <tr>\n",
       "      <th>0</th>\n",
       "      <td>e001fb1a191b42a6882b16a16b7c5dbd</td>\n",
       "      <td>0</td>\n",
       "      <td>FINISHED</td>\n",
       "      <td>mlflow-artifacts:/0/e001fb1a191b42a6882b16a16b...</td>\n",
       "      <td>2025-01-21 11:20:03.576000+00:00</td>\n",
       "      <td>2025-01-21 11:20:06.267000+00:00</td>\n",
       "      <td>0.96</td>\n",
       "      <td>42</td>\n",
       "      <td>0.1</td>\n",
       "      <td>None</td>\n",
       "      <td>codespace</td>\n",
       "      <td>LOCAL</td>\n",
       "      <td>/home/codespace/anaconda3/lib/python3.9/site-p...</td>\n",
       "      <td>[{\"run_id\": \"e001fb1a191b42a6882b16a16b7c5dbd\"...</td>\n",
       "      <td>classy-smelt-46</td>\n",
       "    </tr>\n",
       "    <tr>\n",
       "      <th>1</th>\n",
       "      <td>93fd8338bdf14f258a4bc1b5ef8e5bf6</td>\n",
       "      <td>0</td>\n",
       "      <td>FAILED</td>\n",
       "      <td>mlflow-artifacts:/0/93fd8338bdf14f258a4bc1b5ef...</td>\n",
       "      <td>2025-01-21 11:19:47.062000+00:00</td>\n",
       "      <td>2025-01-21 11:19:47.093000+00:00</td>\n",
       "      <td>NaN</td>\n",
       "      <td>None</td>\n",
       "      <td>0.1</td>\n",
       "      <td>42</td>\n",
       "      <td>codespace</td>\n",
       "      <td>LOCAL</td>\n",
       "      <td>/home/codespace/anaconda3/lib/python3.9/site-p...</td>\n",
       "      <td>None</td>\n",
       "      <td>bright-turtle-69</td>\n",
       "    </tr>\n",
       "  </tbody>\n",
       "</table>\n",
       "</div>"
      ],
      "text/plain": [
       "                             run_id experiment_id    status  \\\n",
       "0  e001fb1a191b42a6882b16a16b7c5dbd             0  FINISHED   \n",
       "1  93fd8338bdf14f258a4bc1b5ef8e5bf6             0    FAILED   \n",
       "\n",
       "                                        artifact_uri  \\\n",
       "0  mlflow-artifacts:/0/e001fb1a191b42a6882b16a16b...   \n",
       "1  mlflow-artifacts:/0/93fd8338bdf14f258a4bc1b5ef...   \n",
       "\n",
       "                        start_time                         end_time  \\\n",
       "0 2025-01-21 11:20:03.576000+00:00 2025-01-21 11:20:06.267000+00:00   \n",
       "1 2025-01-21 11:19:47.062000+00:00 2025-01-21 11:19:47.093000+00:00   \n",
       "\n",
       "   metrics.accuracy params.random_state params.C params.ramdom_state  \\\n",
       "0              0.96                  42      0.1                None   \n",
       "1               NaN                None      0.1                  42   \n",
       "\n",
       "  tags.mlflow.user tags.mlflow.source.type  \\\n",
       "0        codespace                   LOCAL   \n",
       "1        codespace                   LOCAL   \n",
       "\n",
       "                             tags.mlflow.source.name  \\\n",
       "0  /home/codespace/anaconda3/lib/python3.9/site-p...   \n",
       "1  /home/codespace/anaconda3/lib/python3.9/site-p...   \n",
       "\n",
       "                       tags.mlflow.log-model.history tags.mlflow.runName  \n",
       "0  [{\"run_id\": \"e001fb1a191b42a6882b16a16b7c5dbd\"...     classy-smelt-46  \n",
       "1                                               None    bright-turtle-69  "
      ]
     },
     "execution_count": 21,
     "metadata": {},
     "output_type": "execute_result"
    }
   ],
   "source": [
    "mlflow.search_runs(search_all_experiments=True)"
   ]
  },
  {
   "cell_type": "code",
   "execution_count": 23,
   "id": "badb7495",
   "metadata": {
    "scrolled": true
   },
   "outputs": [
    {
     "name": "stderr",
     "output_type": "stream",
     "text": [
      "Successfully registered model 'iris-classifier'.\n",
      "2025/01/21 11:26:50 INFO mlflow.store.model_registry.abstract_store: Waiting up to 300 seconds for model version to finish creation. Model name: iris-classifier, version 1\n",
      "Created version '1' of model 'iris-classifier'.\n"
     ]
    },
    {
     "data": {
      "text/plain": [
       "<ModelVersion: aliases=[], creation_timestamp=1737458810555, current_stage='None', description='', last_updated_timestamp=1737458810555, name='iris-classifier', run_id='e001fb1a191b42a6882b16a16b7c5dbd', run_link='', source='mlflow-artifacts:/0/e001fb1a191b42a6882b16a16b7c5dbd/artifacts/models', status='READY', status_message='', tags={}, user_id='', version='1'>"
      ]
     },
     "execution_count": 23,
     "metadata": {},
     "output_type": "execute_result"
    }
   ],
   "source": [
    "run_id='e001fb1a191b42a6882b16a16b7c5dbd'\n",
    "mlflow.register_model(\n",
    "    model_uri=f\"runs:/{run_id}/models\",\n",
    "    name='iris-classifier'\n",
    ")"
   ]
  },
  {
   "cell_type": "code",
   "execution_count": null,
   "id": "c2bd0cca",
   "metadata": {},
   "outputs": [],
   "source": []
  }
 ],
 "metadata": {
  "kernelspec": {
   "display_name": "Python 3 (ipykernel)",
   "language": "python",
   "name": "python3"
  },
  "language_info": {
   "codemirror_mode": {
    "name": "ipython",
    "version": 3
   },
   "file_extension": ".py",
   "mimetype": "text/x-python",
   "name": "python",
   "nbconvert_exporter": "python",
   "pygments_lexer": "ipython3",
   "version": "3.9.12"
  }
 },
 "nbformat": 4,
 "nbformat_minor": 5
}
