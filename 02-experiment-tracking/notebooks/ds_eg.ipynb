{
 "cells": [
  {
   "cell_type": "code",
   "execution_count": 1,
   "metadata": {
    "vscode": {
     "languageId": "plaintext"
    }
   },
   "outputs": [],
   "source": [
    "import mlflow"
   ]
  },
  {
   "cell_type": "code",
   "execution_count": 2,
   "metadata": {
    "vscode": {
     "languageId": "plaintext"
    }
   },
   "outputs": [
    {
     "name": "stdout",
     "output_type": "stream",
     "text": [
      "tracking URIfile:///workspaces/mlops/02-experiment-tracking/notebooks/mlruns\n"
     ]
    }
   ],
   "source": [
    "print(f\"tracking URI{mlflow.get_tracking_uri()}\")"
   ]
  },
  {
   "cell_type": "code",
   "execution_count": 5,
   "metadata": {},
   "outputs": [
    {
     "data": {
      "text/plain": [
       "[<Experiment: artifact_location='file:///workspaces/mlops/02-experiment-tracking/notebooks/mlruns/267081602319699819', creation_time=1737112886690, experiment_id='267081602319699819', last_update_time=1737112886690, lifecycle_stage='active', name='my-experiment-1', tags={}>,\n",
       " <Experiment: artifact_location='file:///workspaces/mlops/02-experiment-tracking/notebooks/mlruns/0', creation_time=1737112886681, experiment_id='0', last_update_time=1737112886681, lifecycle_stage='active', name='Default', tags={}>]"
      ]
     },
     "execution_count": 5,
     "metadata": {},
     "output_type": "execute_result"
    }
   ],
   "source": [
    "mlflow.search_experiments()"
   ]
  },
  {
   "cell_type": "code",
   "execution_count": 7,
   "metadata": {},
   "outputs": [],
   "source": [
    "from sklearn.linear_model import LogisticRegression\n",
    "\n",
    "from sklearn.datasets import load_iris\n",
    "from sklearn.metrics import accuracy_score"
   ]
  },
  {
   "cell_type": "markdown",
   "metadata": {},
   "source": []
  },
  {
   "cell_type": "code",
   "execution_count": 8,
   "metadata": {},
   "outputs": [
    {
     "name": "stderr",
     "output_type": "stream",
     "text": [
      "2025/01/21 10:44:11 INFO mlflow.tracking.fluent: Experiment with name 'my first experiment' does not exist. Creating a new experiment.\n"
     ]
    },
    {
     "data": {
      "text/plain": [
       "<Experiment: artifact_location='file:///workspaces/mlops/02-experiment-tracking/notebooks/mlruns/428782618595260082', creation_time=1737456251428, experiment_id='428782618595260082', last_update_time=1737456251428, lifecycle_stage='active', name='my first experiment', tags={}>"
      ]
     },
     "execution_count": 8,
     "metadata": {},
     "output_type": "execute_result"
    }
   ],
   "source": [
    "mlflow.set_experiment('my first experiment')"
   ]
  },
  {
   "cell_type": "code",
   "execution_count": 9,
   "metadata": {},
   "outputs": [
    {
     "data": {
      "text/plain": [
       "<function mlflow.tracking.fluent.search_experiments(view_type: int = 1, max_results: Optional[int] = None, filter_string: Optional[str] = None, order_by: Optional[list[str]] = None) -> list[mlflow.entities.experiment.Experiment]>"
      ]
     },
     "execution_count": 9,
     "metadata": {},
     "output_type": "execute_result"
    }
   ],
   "source": [
    "mlflow.search_experiments"
   ]
  },
  {
   "cell_type": "code",
   "execution_count": 11,
   "metadata": {},
   "outputs": [
    {
     "name": "stderr",
     "output_type": "stream",
     "text": [
      "2025/01/21 10:49:59 WARNING mlflow.utils.environment: Encountered an unexpected error while inferring pip requirements (model URI: /tmp/tmpmges_qhq/model/model.pkl, flavor: sklearn). Fall back to return ['scikit-learn==1.0.2', 'cloudpickle==2.0.0']. Set logging level to DEBUG to see the full traceback. \n",
      "\u001b[31m2025/01/21 10:49:59 WARNING mlflow.models.model: Model logged without a signature and input example. Please set `input_example` parameter when logging the model to auto infer the model signature.\u001b[0m\n"
     ]
    },
    {
     "name": "stdout",
     "output_type": "stream",
     "text": [
      "default artifacts URI: 'file:///workspaces/mlops/02-experiment-tracking/notebooks/mlruns/428782618595260082/884993266dfb464787297861003ff00e/artifacts'\n"
     ]
    }
   ],
   "source": [
    "with mlflow.start_run():\n",
    "    X,y=load_iris(return_X_y=True)\n",
    "    params = {\"C\": 0.1, \"random_state\": 42}\n",
    "    mlflow.log_params(params)\n",
    "    lr = LogisticRegression(**params).fit(X, y)\n",
    "    y_pred=lr.predict(X)\n",
    "    mlflow.log_metric(\"accuracy\",accuracy_score(y,y_pred))\n",
    "    mlflow.sklearn.log_model(lr,artifact_path=\"models\")\n",
    "    print(f\"default artifacts URI: '{mlflow.get_artifact_uri()}'\")"
   ]
  },
  {
   "cell_type": "code",
   "execution_count": 12,
   "metadata": {},
   "outputs": [
    {
     "data": {
      "text/plain": [
       "[<Experiment: artifact_location='file:///workspaces/mlops/02-experiment-tracking/notebooks/mlruns/428782618595260082', creation_time=1737456251428, experiment_id='428782618595260082', last_update_time=1737456251428, lifecycle_stage='active', name='my first experiment', tags={}>,\n",
       " <Experiment: artifact_location='file:///workspaces/mlops/02-experiment-tracking/notebooks/mlruns/267081602319699819', creation_time=1737112886690, experiment_id='267081602319699819', last_update_time=1737112886690, lifecycle_stage='active', name='my-experiment-1', tags={}>,\n",
       " <Experiment: artifact_location='file:///workspaces/mlops/02-experiment-tracking/notebooks/mlruns/0', creation_time=1737112886681, experiment_id='0', last_update_time=1737112886681, lifecycle_stage='active', name='Default', tags={}>]"
      ]
     },
     "execution_count": 12,
     "metadata": {},
     "output_type": "execute_result"
    }
   ],
   "source": [
    "mlflow.search_experiments()"
   ]
  },
  {
   "cell_type": "code",
   "execution_count": 13,
   "metadata": {},
   "outputs": [],
   "source": [
    "#//interacting with the model registry"
   ]
  },
  {
   "cell_type": "code",
   "execution_count": 14,
   "metadata": {},
   "outputs": [],
   "source": [
    "from mlflow.tracking import MlflowClient\n",
    "client=MlflowClient()"
   ]
  },
  {
   "cell_type": "code",
   "execution_count": 25,
   "metadata": {},
   "outputs": [],
   "source": [
    "from mlflow.exceptions import MlflowException"
   ]
  },
  {
   "cell_type": "code",
   "execution_count": 27,
   "metadata": {},
   "outputs": [
    {
     "name": "stdout",
     "output_type": "stream",
     "text": [
      "An unexpected error occurred: 'MlflowClient' object has no attribute 'list_registered_models'\n"
     ]
    }
   ],
   "source": [
    "try:\n",
    "    models = client.list_registered_models()\n",
    "    if models:\n",
    "        for model in models:\n",
    "            print(model)\n",
    "    else:\n",
    "        print(\"No models are registered.\")\n",
    "except MlflowException as e:\n",
    "    print(f\"An MlflowException occurred: {e}\")\n",
    "except Exception as e:\n",
    "    print(f\"An unexpected error occurred: {e}\")"
   ]
  },
  {
   "cell_type": "code",
   "execution_count": 20,
   "metadata": {},
   "outputs": [
    {
     "data": {
      "text/plain": [
       "'file:///workspaces/mlops/02-experiment-tracking/notebooks/mlruns'"
      ]
     },
     "execution_count": 20,
     "metadata": {},
     "output_type": "execute_result"
    }
   ],
   "source": [
    "mlflow.get_tracking_uri()"
   ]
  },
  {
   "cell_type": "code",
   "execution_count": 22,
   "metadata": {},
   "outputs": [
    {
     "data": {
      "text/plain": [
       "[<Experiment: artifact_location='file:///workspaces/mlops/02-experiment-tracking/notebooks/mlruns/428782618595260082', creation_time=1737456251428, experiment_id='428782618595260082', last_update_time=1737456251428, lifecycle_stage='active', name='my first experiment', tags={}>,\n",
       " <Experiment: artifact_location='file:///workspaces/mlops/02-experiment-tracking/notebooks/mlruns/267081602319699819', creation_time=1737112886690, experiment_id='267081602319699819', last_update_time=1737112886690, lifecycle_stage='active', name='my-experiment-1', tags={}>,\n",
       " <Experiment: artifact_location='file:///workspaces/mlops/02-experiment-tracking/notebooks/mlruns/0', creation_time=1737112886681, experiment_id='0', last_update_time=1737112886681, lifecycle_stage='active', name='Default', tags={}>]"
      ]
     },
     "execution_count": 22,
     "metadata": {},
     "output_type": "execute_result"
    }
   ],
   "source": [
    "mlflow.search_experiments()"
   ]
  },
  {
   "cell_type": "code",
   "execution_count": null,
   "metadata": {},
   "outputs": [],
   "source": []
  }
 ],
 "metadata": {
  "kernelspec": {
   "display_name": "Python 3 (ipykernel)",
   "language": "python",
   "name": "python3"
  },
  "language_info": {
   "codemirror_mode": {
    "name": "ipython",
    "version": 3
   },
   "file_extension": ".py",
   "mimetype": "text/x-python",
   "name": "python",
   "nbconvert_exporter": "python",
   "pygments_lexer": "ipython3",
   "version": "3.9.12"
  }
 },
 "nbformat": 4,
 "nbformat_minor": 2
}
